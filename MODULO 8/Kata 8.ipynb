{
 "cells": [
  {
   "cell_type": "markdown",
   "metadata": {},
   "source": [
    "### Ejercicio 1: Creación de diccionarios de Python\n",
    "Ejercicio: Crear y modificar un diccionario de Python\n",
    "Los diccionarios python te permiten modelar datos más complejos. Los diccionarios son una colección de pares clave/valor, y son muy comunes en los programas Python. Su flexibilidad le permite trabajar dinámicamente con valores relacionados sin tener que crear clases u objetos.\n",
    "\n",
    "Un diccionario se indica en Python mediante el uso de llaves ({ }), con pares clave/valor separados por dos puntos (:). Las claves son literales de cadena y los valores pueden ser de cualquier tipo de datos.{ }:\n",
    "\n",
    "demo = {\n",
    "    'key': 'value',\n",
    "    'number': 42\n",
    "}\n",
    "Para este ejercicio, crearás un diccionario que almacene información sobre el planeta Marte.\n",
    "\n",
    "\n",
    "Agrega el código para crear un nuevo diccionario denominado 'planet'. Rellena con la siguiente información:\n",
    "\n",
    "name: Mars\n",
    "moons: 2"
   ]
  },
  {
   "cell_type": "code",
   "execution_count": 7,
   "metadata": {},
   "outputs": [],
   "source": [
    "# Crea un diccionario llamado planet con los datos propuestos\n",
    "planet = {\n",
    "    'nombre': 'Marte',\n",
    "    'luna': 2\n",
    "}"
   ]
  },
  {
   "cell_type": "code",
   "execution_count": 9,
   "metadata": {},
   "outputs": [
    {
     "name": "stdout",
     "output_type": "stream",
     "text": [
      "Marte Tiene 2 lunas\n"
     ]
    }
   ],
   "source": [
    "# Muestra el nombre del planeta y el número de lunas que tiene.\n",
    "\n",
    "print(f'{planet[\"nombre\"]} Tiene {planet[\"luna\"]} lunas')"
   ]
  },
  {
   "cell_type": "code",
   "execution_count": 16,
   "metadata": {},
   "outputs": [],
   "source": [
    "# Agrega la clave circunferencia con los datos proporcionados previamente\n",
    "\n",
    "planet['circumference (km)'] = {\n",
    "    'polar': 6752,\n",
    "    'equatorial': 6792\n",
    "}"
   ]
  },
  {
   "cell_type": "code",
   "execution_count": 18,
   "metadata": {},
   "outputs": [
    {
     "name": "stdout",
     "output_type": "stream",
     "text": [
      "Marte Tiene una circunferencia polar de 6752\n"
     ]
    }
   ],
   "source": [
    "# Imprime el nombre del planeta con su circunferencia polar.\n",
    "\n",
    "print(f'{planet[\"nombre\"]} Tiene una circunferencia polar de {planet[\"circumference (km)\"][\"polar\"]}')"
   ]
  },
  {
   "cell_type": "markdown",
   "metadata": {},
   "source": [
    "### Ejercicio 2: Programación dinámica con diccionarios\n",
    "Ejercicio: Cálculo de valores\n",
    "En este escenario, calcularás tanto el número total de lunas en el sistema solar como el número promedio de lunas que tiene un planeta."
   ]
  },
  {
   "cell_type": "code",
   "execution_count": 1,
   "metadata": {},
   "outputs": [],
   "source": [
    "# Planets and moons\n",
    "\n",
    "planet_moons = {\n",
    "    'mercury': 0,\n",
    "    'venus': 0,\n",
    "    'earth': 1,\n",
    "    'mars': 2,\n",
    "    'jupiter': 79,\n",
    "    'saturn': 82,\n",
    "    'uranus': 27,\n",
    "    'neptune': 14,\n",
    "    'pluto': 5,\n",
    "    'haumea': 2,\n",
    "    'makemake': 1,\n",
    "    'eris': 1\n",
    "}"
   ]
  },
  {
   "cell_type": "code",
   "execution_count": 2,
   "metadata": {},
   "outputs": [],
   "source": [
    "# Añade el código para determinar el número de lunas.\n",
    "moons = planet_moons.values()\n",
    "\n",
    "planets = len(planet_moons.keys())"
   ]
  },
  {
   "cell_type": "code",
   "execution_count": 7,
   "metadata": {},
   "outputs": [
    {
     "name": "stdout",
     "output_type": "stream",
     "text": [
      "17.833333333333332\n"
     ]
    }
   ],
   "source": [
    "# Agrega el código para contar el número de lunas. \n",
    "total_moons = 0\n",
    "for moon in moons:\n",
    "    total_moons = total_moons + moon\n",
    "average = total_moons / planets\n",
    "\n",
    "# Muestra el promedio\n",
    "print(average)"
   ]
  }
 ],
 "metadata": {
  "interpreter": {
   "hash": "b28a705dde10501f390a26ae80d8c01bf44ea69510cab09b2b17a3675b9fbc02"
  },
  "kernelspec": {
   "display_name": "Python 3.10.2 64-bit",
   "language": "python",
   "name": "python3"
  },
  "language_info": {
   "codemirror_mode": {
    "name": "ipython",
    "version": 3
   },
   "file_extension": ".py",
   "mimetype": "text/x-python",
   "name": "python",
   "nbconvert_exporter": "python",
   "pygments_lexer": "ipython3",
   "version": "3.10.2"
  },
  "orig_nbformat": 4
 },
 "nbformat": 4,
 "nbformat_minor": 2
}
