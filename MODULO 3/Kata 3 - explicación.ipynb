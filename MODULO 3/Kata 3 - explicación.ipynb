{
 "cells": [
  {
   "cell_type": "markdown",
   "metadata": {},
   "source": [
    "EXPRESIONES DE PRUEBA "
   ]
  },
  {
   "cell_type": "code",
   "execution_count": 2,
   "metadata": {},
   "outputs": [
    {
     "name": "stdout",
     "output_type": "stream",
     "text": [
      "55\n"
     ]
    }
   ],
   "source": [
    "#prubea 1 \n",
    "a = 97\n",
    "b = 55\n",
    "# test expression / expresión de prueba\n",
    "if b < a:\n",
    "    # statement to be run / instrucción a ejecutar\n",
    "    print(b)"
   ]
  },
  {
   "cell_type": "code",
   "execution_count": 3,
   "metadata": {},
   "outputs": [
    {
     "name": "stdout",
     "output_type": "stream",
     "text": [
      "93\n"
     ]
    }
   ],
   "source": [
    "# Igual o mayor a tal numero:\n",
    "a = 93\n",
    "b = 27\n",
    "if a >= b:\n",
    "    print(a)"
   ]
  },
  {
   "cell_type": "code",
   "execution_count": 6,
   "metadata": {},
   "outputs": [
    {
     "name": "stdout",
     "output_type": "stream",
     "text": [
      "44\n"
     ]
    }
   ],
   "source": [
    "# prueba no se ejecuta expresión a debido al sangria en el if \n",
    "a = 24\n",
    "b = 44\n",
    "if a <= 0:\n",
    "   print(a)\n",
    "print(b)"
   ]
  },
  {
   "cell_type": "code",
   "execution_count": 7,
   "metadata": {},
   "outputs": [
    {
     "name": "stdout",
     "output_type": "stream",
     "text": [
      "93\n"
     ]
    }
   ],
   "source": [
    "#if expresion_prueba:\n",
    "    # instrucción(es) a ejecutar\n",
    "#else:\n",
    "    # instrucción(es) a ejecutar\n",
    "a = 93\n",
    "b = 27\n",
    "if a >= b:\n",
    "    print(a)\n",
    "else:\n",
    "    print(b)"
   ]
  },
  {
   "cell_type": "code",
   "execution_count": 9,
   "metadata": {},
   "outputs": [
    {
     "name": "stdout",
     "output_type": "stream",
     "text": [
      "a es mayor o igual que b\n"
     ]
    }
   ],
   "source": [
    "#La instrucción ``elif`` de este bloque de código no se ejecutará, porque la instrucción ``if`` es ``True``.\n",
    "#La sintaxis de una instrucción ``if/elif`` es:\n",
    "#if expresion_prueba:\n",
    "    # instrucción(es) a ejecutar\n",
    "#elif expresion_prueba:\n",
    "    # instrucción(es) a ejecutar\n",
    "a = 93\n",
    "b = 27\n",
    "if a >= b:\n",
    "    print(\"a es mayor o igual que b\")\n",
    "elif a == b:\n",
    "    print(\"a es igual que b\")"
   ]
  },
  {
   "cell_type": "code",
   "execution_count": 10,
   "metadata": {},
   "outputs": [
    {
     "name": "stdout",
     "output_type": "stream",
     "text": [
      "57\n"
     ]
    }
   ],
   "source": [
    "#operador or\n",
    "a = 23\n",
    "b = 34\n",
    "if a == 34 or b == 34:\n",
    "    print(a + b)"
   ]
  },
  {
   "cell_type": "markdown",
   "metadata": {},
   "source": [
    "DIFERENCIA ENTRE OR Y AND \n",
    "Para resaltar la diferencia entre los dos operadores booleanos, puedes utilizar una tabla de verdad. Una tabla de verdad muestra a qué se evalúa toda la expresión de prueba en función de las dos subexpresiones.\n",
    "\n",
    "Aquí está la tabla de la verdad para: ``and``\n",
    "\n",
    "| subexpresión1 | Operador | subexpresión2 | Resultado |\n",
    "| -------------- | -------- | -------------- | --------- |\n",
    "| ``True``       | ``and``  | ``True``       | ``True``  |\n",
    "| ``True``       | ``and``  | ``False``      | ``False`` |\n",
    "| ``False``      | ``and``  | ``True``       | ``False`` |\n",
    "| ``False``      | ``and``  | ``False``      | ``False`` |\n",
    "\n",
    "Aquí está la tabla de la verdad para: ``or``\n",
    "\n",
    "| subexpresión1 | Operador | subexpresión2 | Resultado |\n",
    "| -------------- | -------- | -------------- | --------- |\n",
    "| ``True``       | ``or``   | ``True``       | ``True``  |\n",
    "| ``True``       | ``or``   | ``False``      | ``True``  |\n",
    "| ``False``      | ``or``   | ``True``       | ``True``  |\n",
    "| ``False``      | ``or``   | ``False``      | ``False`` |\n",
    "\n",
    "\n",
    "¡¡ IMPORTANTE !!"
   ]
  }
 ],
 "metadata": {
  "interpreter": {
   "hash": "b28a705dde10501f390a26ae80d8c01bf44ea69510cab09b2b17a3675b9fbc02"
  },
  "kernelspec": {
   "display_name": "Python 3.10.2 64-bit",
   "language": "python",
   "name": "python3"
  },
  "language_info": {
   "codemirror_mode": {
    "name": "ipython",
    "version": 3
   },
   "file_extension": ".py",
   "mimetype": "text/x-python",
   "name": "python",
   "nbconvert_exporter": "python",
   "pygments_lexer": "ipython3",
   "version": "3.10.2"
  },
  "orig_nbformat": 4
 },
 "nbformat": 4,
 "nbformat_minor": 2
}
