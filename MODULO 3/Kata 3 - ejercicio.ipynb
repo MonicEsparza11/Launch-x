{
 "cells": [
  {
   "cell_type": "markdown",
   "metadata": {},
   "source": [
    "KATA 3 - DECLARACIONES IF, ELSE Y ELIF "
   ]
  },
  {
   "cell_type": "markdown",
   "metadata": {},
   "source": [
    "PROBLEMA 1"
   ]
  },
  {
   "cell_type": "code",
   "execution_count": 2,
   "metadata": {},
   "outputs": [
    {
     "name": "stdout",
     "output_type": "stream",
     "text": [
      "¡ADVERTENCIA! el asteroide se acerca a gran velocidad\n"
     ]
    }
   ],
   "source": [
    "# Añadir el código necesario para crear una variable que guarde la velocidad del asteroide.\n",
    "# Escribe una expresión de prueba para calcular si necesita una advertencia.\n",
    "# Agregue las instrucciones que se ejecutarán si la expresión de prueba es true o false.\n",
    "\n",
    "asteroide = 49\n",
    "if asteroide > 25:\n",
    "  print (\"¡ADVERTENCIA! el asteroide se acerca a gran velocidad\")\n",
    "else:\n",
    "    print(\"Todo funciona correctamente\")\n"
   ]
  },
  {
   "cell_type": "markdown",
   "metadata": {},
   "source": [
    "PROBLEMA 2 "
   ]
  },
  {
   "cell_type": "code",
   "execution_count": 7,
   "metadata": {},
   "outputs": [
    {
     "name": "stdout",
     "output_type": "stream",
     "text": [
      "Tengan bonito día.\n"
     ]
    }
   ],
   "source": [
    "# Agrega el código para crear una variable para un asteroide que viaja a 19 km/s\n",
    "# Escribe varias expresiones de prueba para determinar si puedes ver el rayo de luz desde la tierra\n",
    "# Agrega las instrucciones que se ejecutarán si las expresiones de prueba son True o False\n",
    "\n",
    "asteroide = 19\n",
    "if asteroide > 20:\n",
    "    print (\"ATENCIÓN HAY UN FENOMENO OCURRIENDO EN EL CIELO\")\n",
    "elif asteroide == 20:\n",
    "  print(\"ATENCIÓN HAY UN FENOMENO OCURRIENDO EN EL CIELO\")\n",
    "else:\n",
    "   print( \"Tengan bonito día.\")\n"
   ]
  },
  {
   "cell_type": "markdown",
   "metadata": {},
   "source": [
    "PROBLEMA 3"
   ]
  },
  {
   "cell_type": "code",
   "execution_count": 7,
   "metadata": {},
   "outputs": [
    {
     "name": "stdout",
     "output_type": "stream",
     "text": [
      "ATENCIÓN! Hay un fenomeno ocurriendo en el cielo\n"
     ]
    }
   ],
   "source": [
    "# Agrega el código para crear nuevas variables para la velocidad y el tamaño del asteroide\n",
    "# Para probar el código, prueba con varias velocidades y tamaños\n",
    "# Escribe varias expresiones de prueba o combinaciones de expresiones de prueba para determinar qué mensaje se debe enviar a Tierra.\n",
    "\n",
    "velocidadAsteroide = 25\n",
    "tamanoAsteroide = 49\n",
    "if velocidadAsteroide > 25 and tamanoAsteroide > 25:\n",
    "    print('¡PELIGRO! Un asteroide se acerca a gran velocidad')\n",
    "elif velocidadAsteroide >= 20:\n",
    "    print('ATENCIÓN! Hay un fenomeno ocurriendo en el cielo')\n",
    "elif tamanoAsteroide < 25:\n",
    "    print('Tengan bonito día')\n",
    "else:\n",
    "    print('Tengan bonita día')"
   ]
  },
  {
   "cell_type": "code",
   "execution_count": 2,
   "metadata": {},
   "outputs": [
    {
     "name": "stdout",
     "output_type": "stream",
     "text": [
      "¡PELIGRO! Un asteroide se acerca a gran velocidad\n"
     ]
    }
   ],
   "source": [
    "#Intento operador or \n",
    "\n",
    "velocidadAsteroide = 25\n",
    "tamanoAsteroide = 49\n",
    "if velocidadAsteroide > 25 or tamanoAsteroide > 25:\n",
    "    print('¡PELIGRO! Un asteroide se acerca a gran velocidad')\n",
    "elif velocidadAsteroide >= 20:\n",
    "    print('ATENCIÓN! Hay un fenomeno ocurriendo en el cielo')\n",
    "else:\n",
    "   print(\"Tenga un lindo día, no ha pasado nada\")"
   ]
  }
 ],
 "metadata": {
  "interpreter": {
   "hash": "b28a705dde10501f390a26ae80d8c01bf44ea69510cab09b2b17a3675b9fbc02"
  },
  "kernelspec": {
   "display_name": "Python 3.10.2 64-bit",
   "language": "python",
   "name": "python3"
  },
  "language_info": {
   "codemirror_mode": {
    "name": "ipython",
    "version": 3
   },
   "file_extension": ".py",
   "mimetype": "text/x-python",
   "name": "python",
   "nbconvert_exporter": "python",
   "pygments_lexer": "ipython3",
   "version": "3.10.2"
  },
  "orig_nbformat": 4
 },
 "nbformat": 4,
 "nbformat_minor": 2
}
